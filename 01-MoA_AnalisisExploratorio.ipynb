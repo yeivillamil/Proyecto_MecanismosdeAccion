{
 "cells": [
  {
   "cell_type": "markdown",
   "metadata": {},
   "source": [
    "# MECANISMOS DE ACCIÓN - Análisis exploratorio de los datos (EDA)"
   ]
  },
  {
   "cell_type": "code",
   "execution_count": null,
   "metadata": {},
   "outputs": [],
   "source": [
    "# pip install opendatasets"
   ]
  },
  {
   "cell_type": "markdown",
   "metadata": {},
   "source": [
    "**NOMBRES**: \n",
    "* Andrea Marcela Castrillon Buitrago \n",
    "* Yeison Fernando Villamil Franco"
   ]
  },
  {
   "cell_type": "markdown",
   "metadata": {},
   "source": [
    "En el pasado, cuando se trabajaba en la creación de un medicamento este solo era probado en personas pero no se realizaba una investigación exhaustiva del comportamiento genético y celular del medicamento. Básicamente, un medicamente intenta modular la proteína que es activada cuando se presenta una enfermedad. El mecanismo de acción o MoA por sus siglas en inglés muestra las diferentes activaciones de proteínas al tratamiento con fármacos. Las variables de entrada son las respuestas (expresiones génicas y viabilidad celular) al tratamiento y las variables de salida son un conjuntos de proteínas que se ven activadas son el tratamiento. Valores binarios: 0 y 1 muestran la no activación y activación.\n",
    "\n",
    "Los datos se encuentran en un concurso de kaggle, usando el siguiente link:\n",
    "\n",
    "* https://www.kaggle.com/c/lish-moa/data\n",
    "\n",
    "Fue usado como fuente de programación un notebook en jupyter y los datos fueron cargados de manera directa descargando los archivos en la máquina persona y cargándolos usando la misma carpeta para notebook y archivos de datos."
   ]
  },
  {
   "cell_type": "markdown",
   "metadata": {},
   "source": [
    "## Carga de datos"
   ]
  },
  {
   "cell_type": "code",
   "execution_count": null,
   "metadata": {},
   "outputs": [],
   "source": [
    "#Librerias\n",
    "import pandas as pd\n",
    "import numpy as np\n",
    "import matplotlib.pyplot as plt\n",
    "import seaborn as sns\n",
    "import matplotlib\n",
    "import scipy.stats as stats\n",
    "import opendatasets as od"
   ]
  },
  {
   "cell_type": "code",
   "execution_count": null,
   "metadata": {},
   "outputs": [],
   "source": [
    "train_features = pd.read_csv('train_features.csv')\n",
    "train_target = pd.read_csv('train_targets_scored.csv')\n",
    "test_features = pd.read_csv('test_features.csv')"
   ]
  },
  {
   "cell_type": "markdown",
   "metadata": {},
   "source": [
    "*El dataset de entrenamiento y prueba consiste en filas que representan las muestras (fármacos usados), `cp_type`: es el tipo de perturbación al comportamiento celular --> trt_cp: perturbación química (uso de fármacos) y ctl_vehicle: perturbación de control. `cp_time`: es el tiempo en horas del suministro del fármaco y `cp_dose`: D1 es dosis baja y D2 es dosis alta (no es indicada la cantidad en volumen suministrado, solo se muestra como una dosis baja y alta). Las variables de entrada con respuestas representadas en expresiones génicas y viabilidad celular, siendo el comportamiento medido cuando se usan fármacos para moderar las proteínas.*"
   ]
  },
  {
   "cell_type": "code",
   "execution_count": null,
   "metadata": {},
   "outputs": [],
   "source": [
    "train_features.head(5)"
   ]
  },
  {
   "cell_type": "code",
   "execution_count": null,
   "metadata": {},
   "outputs": [],
   "source": [
    "test_features.head(5)"
   ]
  },
  {
   "cell_type": "code",
   "execution_count": null,
   "metadata": {},
   "outputs": [],
   "source": [
    "train_target.head(5)"
   ]
  },
  {
   "cell_type": "markdown",
   "metadata": {},
   "source": [
    "## Análisis - dimensiones"
   ]
  },
  {
   "cell_type": "code",
   "execution_count": null,
   "metadata": {},
   "outputs": [],
   "source": [
    "#Información de cada uno de los archivos\n",
    "print(train_features.info())\n",
    "print(\"---------------------------------------\")\n",
    "print(test_features.info())\n",
    "print(\"---------------------------------------\")\n",
    "print(train_target.info())"
   ]
  },
  {
   "cell_type": "code",
   "execution_count": null,
   "metadata": {},
   "outputs": [],
   "source": [
    "print('Las dimensiones de los datos de entranamiento son:',train_features.shape)\n",
    "print(\"---------------------------------------------------------------\")\n",
    "print('Las dimensiones de los labels de entranamiento son:', train_target.shape)\n",
    "print(\"----------------------------------------------------------------\")\n",
    "print('Las dimensiones de los datos de prueba son:',test_features.shape)"
   ]
  },
  {
   "cell_type": "markdown",
   "metadata": {},
   "source": [
    "*Las expresiones génicas en variables de entrada son 772, viabilidad celular son 100. Para el caso de las variables de salidas se presentan 206 proteínas diferentes que fueron activadas o no para las 23814 muestras o fármacos.*"
   ]
  },
  {
   "cell_type": "code",
   "execution_count": null,
   "metadata": {},
   "outputs": [],
   "source": [
    "## Existen valores nulos?\n",
    "print('Valores nulos de los datos de entrenamiento:',train_features.isnull().sum().sum())\n",
    "print('--')\n",
    "print('Valores nulos de los target de entrenamiento:',train_target.isnull().sum().sum())\n",
    "print('--')\n",
    "print('Valores nulos de los datos de prueba:',test_features.isnull().sum().sum())"
   ]
  },
  {
   "cell_type": "code",
   "execution_count": null,
   "metadata": {},
   "outputs": [],
   "source": [
    "train_features.describe()"
   ]
  },
  {
   "cell_type": "markdown",
   "metadata": {},
   "source": [
    "# 1. Resumen de los datos"
   ]
  },
  {
   "cell_type": "markdown",
   "metadata": {},
   "source": [
    "## Datos de entrenamiento"
   ]
  },
  {
   "cell_type": "code",
   "execution_count": null,
   "metadata": {},
   "outputs": [],
   "source": [
    "### Resumen de los datos de entrenamiento\n",
    "categorical = ['cp_type', 'cp_dose']\n",
    "num_plot = len(categorical)\n",
    "total_cols = 3\n",
    "total_rows = 1 \n",
    "\n",
    "fig, axs = plt.subplots(nrows=total_rows, ncols=total_cols, figsize=(16,6))\n",
    "sns.countplot('cp_type',data=train_features,ax=axs[0])\n",
    "axs[0].set_title('cp_type - Datos de entrenamiento')\n",
    "sns.countplot('cp_dose',data=train_features,ax=axs[1])\n",
    "axs[1].set_title('cp_dose - Datos de entrenamiento')\n",
    "sns.countplot('cp_time',data=train_features,ax=axs[2])\n",
    "axs[2].set_title('cp_time - Datos de entrenamiento')"
   ]
  },
  {
   "cell_type": "code",
   "execution_count": null,
   "metadata": {
    "scrolled": false
   },
   "outputs": [],
   "source": [
    "fig, axs = plt.subplots(nrows=2, ncols=2, figsize=(16,12))\n",
    "sns.countplot('cp_type',hue='cp_dose',data=train_features,ax=axs[0,0],palette='husl')\n",
    "axs[0,0].set_title('Dosis y tipo de perturbación - Datos de entrenamiento')\n",
    "sns.countplot('cp_type',hue='cp_time',data=train_features,ax=axs[0,1],palette='husl')\n",
    "axs[0,1].set_title('Tiempo de dosis y tipo de perturbación - Datos de entrenamiento')\n",
    "sns.countplot('cp_dose',hue='cp_time',data=train_features,ax=axs[1,0],palette='husl')\n",
    "axs[1,0].set_title('Tiempo y carga de la dosis')\n",
    "sns.countplot('cp_dose',hue='cp_type',data=train_features,ax=axs[1,1],palette='husl')\n",
    "axs[1,1].set_title('Tiempo y tipos de dosis')"
   ]
  },
  {
   "cell_type": "markdown",
   "metadata": {},
   "source": [
    "### Distribuciones - Expresiones génicas"
   ]
  },
  {
   "cell_type": "markdown",
   "metadata": {},
   "source": [
    "*Debido a que hay 772 expresiones génicas, son tomadas 12 aleatoriamente para conocer sus distribuciones. Adicionalmente, son mostrados dos histogramas con las medias y desviaciones estandar de todas las expresiones génicas.*"
   ]
  },
  {
   "cell_type": "code",
   "execution_count": null,
   "metadata": {},
   "outputs": [],
   "source": [
    "import matplotlib\n",
    "import random\n",
    "from scipy.stats import norm, t\n",
    "\n",
    "matplotlib.rcParams.update({'font.size': 14, 'font.family': 'STIXGeneral', 'mathtext.fontset': 'stix'})\n",
    "num = 12\n",
    "genes = [col for col in train_features.columns if col.startswith('g-')]\n",
    "sampleddata = random.sample(list(genes),num)\n",
    "num_plot = len(sampleddata)\n",
    "total_cols = 2\n",
    "total_rows = num_plot//total_cols \n",
    "fig, axs = plt.subplots(nrows=total_rows, ncols=total_cols, figsize=(6*total_cols, 5*total_rows), constrained_layout=True)\n",
    "\n",
    "for i, var in enumerate(sampleddata):\n",
    "    rows = i//total_cols\n",
    "    pos = i% total_cols\n",
    "    \n",
    "    plot = sns.distplot(train_features[sampleddata], kde=True, fit=t, ax= axs[rows][pos], fit_kws={'color': 'k', 'label': 't.std', 'alpha' : 1, \"linewidth\": 2}, hist_kws={\"linewidth\": 1,\"alpha\": 1, \"color\": \"g\", \"label\": \"Hist\"},kde_kws={\"color\": \"red\", \"linewidth\": 1.5, \"label\": \"kde\"})\n",
    "    plot.set_title(var)\n",
    "    plot.legend()"
   ]
  },
  {
   "cell_type": "code",
   "execution_count": null,
   "metadata": {},
   "outputs": [],
   "source": [
    "# from scipy.stats import norm, t\n",
    "fig, axs = plt.subplots(figsize=(10,6))\n",
    "sns.distplot(train_features[genes].mean(), kde=True, fit=t, fit_kws={'color': 'r', 'label': 't.std', 'alpha' : 0.9}, hist_kws = {'alpha': 0.25, 'label': 'Hist', 'color': 'blue'}, kde_kws = {'label':'kde', 'color':'k'})\n",
    "plt.title('Distribución de las medias - Expresiones génicas')\n",
    "plt.legend()\n",
    "plt.show()"
   ]
  },
  {
   "cell_type": "code",
   "execution_count": null,
   "metadata": {},
   "outputs": [],
   "source": [
    "fig, axs = plt.subplots(figsize=(10,6))\n",
    "sns.distplot(train_features[genes].std(), kde=True, fit=t, fit_kws={'color': 'k', 'label': 't.std', 'alpha' : 0.9}, hist_kws = {'alpha': 0.2, 'label': 'Hist', 'color': 'r'}, kde_kws={'label':'kde', 'color': 'purple'})\n",
    "plt.title('Distribución de la desviación estandar - Expresiones génicas')\n",
    "plt.legend()\n",
    "plt.show()"
   ]
  },
  {
   "cell_type": "markdown",
   "metadata": {},
   "source": [
    "### Distribuciones - viabilidad celular"
   ]
  },
  {
   "cell_type": "code",
   "execution_count": null,
   "metadata": {},
   "outputs": [],
   "source": [
    "num = 12\n",
    "cells = [col for col in train_features.columns if col.startswith('c-')]\n",
    "sampleddata_c = random.sample(list(cells),num)\n",
    "num_plot = len(sampleddata_c)\n",
    "total_cols = 2\n",
    "total_rows = num_plot//total_cols \n",
    "fig, axs = plt.subplots(nrows=total_rows, ncols=total_cols, figsize=(6*total_cols, 5*total_rows), constrained_layout=True)\n",
    "\n",
    "for i, var in enumerate(sampleddata_c):\n",
    "    rows = i//total_cols\n",
    "    pos = i% total_cols\n",
    "    \n",
    "    plot = sns.distplot(train_features[sampleddata_c], kde=True, fit=t, ax= axs[rows][pos], fit_kws={'color': 'k', 'label': 't.std', 'alpha' : 1, \"linewidth\": 2}, hist_kws={\"linewidth\": 1,\"alpha\": 1, \"color\": \"r\", \"label\": \"Hist\"},kde_kws={\"color\": \"blue\", \"linewidth\": 1.5, \"label\": \"kde\"})\n",
    "    plot.set_title(var)\n",
    "    plot.legend()"
   ]
  },
  {
   "cell_type": "code",
   "execution_count": null,
   "metadata": {},
   "outputs": [],
   "source": [
    "fig, axs = plt.subplots(figsize=(10,6))\n",
    "sns.distplot(train_features[cells].mean(), kde=True, fit=t, fit_kws={'color': 'r', 'label': 't.std', 'alpha' : 0.9}, hist_kws = {'alpha': 0.25, 'label': 'Hist', 'color': 'blue'}, kde_kws = {'label':'kde', 'color': 'blue'})\n",
    "plt.title('Distribución de las medias - Viabilidad celular')\n",
    "plt.legend()\n",
    "plt.show()"
   ]
  },
  {
   "cell_type": "code",
   "execution_count": null,
   "metadata": {},
   "outputs": [],
   "source": [
    "fig, axs = plt.subplots(figsize=(10,6))\n",
    "sns.distplot(train_features[cells].std(), kde=True, fit=t, fit_kws={'color': 'k', 'label': 't.std', 'alpha' : 0.9}, hist_kws = {'alpha': 0.25, 'label': 'Hist', 'color': 'r'}, kde_kws={'label': 'kde', 'color': 'blue'})\n",
    "plt.title('Distribución de la desviación estandar - Viabilidad celular')\n",
    "plt.legend()\n",
    "plt.show()"
   ]
  },
  {
   "cell_type": "markdown",
   "metadata": {},
   "source": [
    "## Datos de prueba"
   ]
  },
  {
   "cell_type": "code",
   "execution_count": null,
   "metadata": {},
   "outputs": [],
   "source": [
    "### Resumen de datos de prueba\n",
    "### Resumen de los datos de entrenamiento\n",
    "categorical = ['cp_type', 'cp_dose']\n",
    "num_plot = len(categorical)\n",
    "total_cols = 3\n",
    "total_rows = 1 \n",
    "\n",
    "fig, axs = plt.subplots(nrows=total_rows, ncols=total_cols, figsize=(16,6))\n",
    "sns.countplot('cp_type',data=test_features,ax=axs[0])\n",
    "axs[0].set_title('cp_type - Datos de prueba')\n",
    "sns.countplot('cp_dose',data=test_features,ax=axs[1])\n",
    "axs[1].set_title('cp_dose - Datos de prueba')\n",
    "sns.countplot('cp_time',data=test_features,ax=axs[2])\n",
    "axs[2].set_title('cp_time - Datos de prueba')"
   ]
  },
  {
   "cell_type": "code",
   "execution_count": null,
   "metadata": {},
   "outputs": [],
   "source": [
    "fig, axs = plt.subplots(nrows=2, ncols=2, figsize=(16,12))\n",
    "sns.countplot('cp_type',hue='cp_dose',data=test_features,ax=axs[0,0],palette='husl')\n",
    "axs[0,0].set_title('Dosis y tipo de perturbación - Datos de entrenamiento')\n",
    "sns.countplot('cp_type',hue='cp_time',data=test_features,ax=axs[0,1],palette='husl')\n",
    "axs[0,1].set_title('Tiempo de dosis y tipo de perturbación - Datos de entrenamiento')\n",
    "sns.countplot('cp_dose',hue='cp_time',data=test_features,ax=axs[1,0],palette='husl')\n",
    "axs[1,0].set_title('Tiempo y carga de la dosis')\n",
    "sns.countplot('cp_dose',hue='cp_type',data=test_features,ax=axs[1,1],palette='husl')\n",
    "axs[1,1].set_title('Tiempo y tipos de dosis')"
   ]
  },
  {
   "cell_type": "markdown",
   "metadata": {},
   "source": [
    "### Distribuciones - expresiones génicas"
   ]
  },
  {
   "cell_type": "code",
   "execution_count": null,
   "metadata": {},
   "outputs": [],
   "source": [
    "num_plot = len(sampleddata)\n",
    "total_cols = 2\n",
    "total_rows = num_plot//total_cols \n",
    "fig, axs = plt.subplots(nrows=total_rows, ncols=total_cols, figsize=(6*total_cols, 5*total_rows), constrained_layout=True)\n",
    "\n",
    "for i, var in enumerate(sampleddata):\n",
    "    rows = i//total_cols\n",
    "    pos = i% total_cols\n",
    "    \n",
    "    plot = sns.distplot(test_features[sampleddata], kde=True, fit=t, ax= axs[rows][pos], fit_kws={'color': 'k', 'label': 't.std', 'alpha' : 1, \"linewidth\": 2}, hist_kws={\"linewidth\": 1,\"alpha\": 1, \"color\": \"g\", \"label\": \"Hist\"},kde_kws={\"color\": \"red\", \"linewidth\": 1.5, \"label\": \"kde\"})\n",
    "    plot.set_title(var)\n",
    "    plot.legend()"
   ]
  },
  {
   "cell_type": "code",
   "execution_count": null,
   "metadata": {},
   "outputs": [],
   "source": [
    "fig, axs = plt.subplots(figsize=(10,6))\n",
    "sns.distplot(test_features[genes].mean(), kde=True, fit=t, fit_kws={'color': 'r', 'label': 't.std', 'alpha' : 0.9}, hist_kws = {'alpha': 0.25, 'label': 'Hist', 'color': 'blue'}, kde_kws ={'label':'kde', 'color': 'blue'})\n",
    "plt.title('Distribución de las medias - Expresiones génicas')\n",
    "plt.legend()\n",
    "plt.show()"
   ]
  },
  {
   "cell_type": "code",
   "execution_count": null,
   "metadata": {},
   "outputs": [],
   "source": [
    "fig, axs = plt.subplots(figsize=(10,6))\n",
    "sns.distplot(test_features[genes].std(), kde=True, fit=t, fit_kws={'color': 'k', 'label': 't.std', 'alpha' : 0.9}, hist_kws = {'alpha': 0.25, 'label': 'Hist', 'color': 'r'}, kde_kws = {'label':'kde', 'color':'blue'})\n",
    "plt.title('Distribución de la desviación estandar - Expresiones génicas')\n",
    "plt.legend()\n",
    "plt.show()"
   ]
  },
  {
   "cell_type": "markdown",
   "metadata": {},
   "source": [
    "### Distribuciones - viabilidad celular"
   ]
  },
  {
   "cell_type": "code",
   "execution_count": null,
   "metadata": {},
   "outputs": [],
   "source": [
    "num_plot = len(sampleddata_c)\n",
    "total_cols = 2\n",
    "total_rows = num_plot//total_cols \n",
    "fig, axs = plt.subplots(nrows=total_rows, ncols=total_cols, figsize=(6*total_cols, 5*total_rows), constrained_layout=True)\n",
    "\n",
    "for i, var in enumerate(sampleddata_c):\n",
    "    rows = i//total_cols\n",
    "    pos = i% total_cols\n",
    "    \n",
    "    plot = sns.distplot(test_features[sampleddata_c], kde=True, fit=t, ax= axs[rows][pos], fit_kws={'color': 'k', 'label': 't.std', 'alpha' : 1, \"linewidth\": 2}, hist_kws={\"linewidth\": 1,\"alpha\": 1, \"color\": \"r\", \"label\": \"Hist\"},kde_kws={\"color\": \"blue\", \"linewidth\": 1.5, \"label\": \"kde\"})\n",
    "    plot.set_title(var)\n",
    "    plot.legend()"
   ]
  },
  {
   "cell_type": "code",
   "execution_count": null,
   "metadata": {},
   "outputs": [],
   "source": [
    "fig, axs = plt.subplots(figsize=(10,6))\n",
    "sns.distplot(test_features[cells].mean(), kde=True, fit=t, fit_kws={'color': 'r', 'label': 'norm', 'alpha' : 0.9}, hist_kws = {'alpha': 0.25, 'label': 'Hist', 'color': 'blue'}, kde_kws = {'label': 'kde', 'color': 'blue'})\n",
    "plt.title('Distribución des la medias - Viabilidad celular')\n",
    "plt.legend()\n",
    "plt.show()"
   ]
  },
  {
   "cell_type": "code",
   "execution_count": null,
   "metadata": {},
   "outputs": [],
   "source": [
    "fig, axs = plt.subplots(figsize=(10,6))\n",
    "sns.distplot(test_features[cells].std(), kde=True, fit=t, fit_kws={'color': 'k', 'label': 't.std', 'alpha' : 0.9}, hist_kws = {'alpha': 0.25, 'label': 'Hist', 'color': 'r'}, kde_kws = {'label': 'kde', 'color': 'blue'})\n",
    "plt.title('Distribución de la desviación estandar - viabilidad celular')\n",
    "plt.legend()\n",
    "plt.show()"
   ]
  },
  {
   "cell_type": "markdown",
   "metadata": {},
   "source": [
    "## Análisis - Proteínas (variables de salida)"
   ]
  },
  {
   "cell_type": "code",
   "execution_count": null,
   "metadata": {},
   "outputs": [],
   "source": [
    "## Target de prueba\n",
    "X = train_features.iloc[:,5:104]\n",
    "y = train_target.iloc[:,1:207]\n",
    "# train_features.head(5)\n",
    "# train_target.head(5)\n",
    "# El objetivo es ver cuantas veces se repite el valor '1' en cada uno de los fármacos\n",
    "sumatoria = y.sum()\n",
    "datos_y = pd.DataFrame(data= sumatoria, columns = ['Conteo'])\n",
    "datos_y = datos_y.sort_values(by = 'Conteo', ascending = False)\n",
    "# datos_y.head()"
   ]
  },
  {
   "cell_type": "code",
   "execution_count": null,
   "metadata": {
    "scrolled": false
   },
   "outputs": [],
   "source": [
    "fig = plt.figure(figsize=(12, 60))\n",
    "\n",
    "sns.barplot(x=y.sum(axis=0).sort_values(ascending=False).values,\n",
    "            y=y.sum(axis=0).sort_values(ascending=False).index)\n",
    "\n",
    "plt.tick_params(axis='x', labelsize=15)\n",
    "plt.tick_params(axis='y', labelsize=15)\n",
    "plt.xlabel('')\n",
    "plt.ylabel('')\n",
    "plt.title('Conteo de proteínas para el archivo de entrenamiento', size=18, pad=18)\n",
    "\n",
    "plt.show()"
   ]
  },
  {
   "cell_type": "markdown",
   "metadata": {},
   "source": [
    "**Los tipos de MoA son los siguientes:**\n",
    "* Receptores: Targets que se encuentran en la superficie y que pueden ser modulados positivamente por `agonistas` y negativamente por `antagonistas`\n",
    "* Enzimas: Se encuentran dentro de la célula. Son moduladas positivamente por `activadores` y negativamente por `inhibidores` y `bloqueadores`\n",
    "* Agentes: Son sencillamente moduladores"
   ]
  },
  {
   "cell_type": "code",
   "execution_count": null,
   "metadata": {},
   "outputs": [],
   "source": [
    "###Tipos de fármacos usados\n",
    "train_target.head(5)"
   ]
  },
  {
   "cell_type": "markdown",
   "metadata": {},
   "source": [
    "### Agentes moduladores"
   ]
  },
  {
   "cell_type": "code",
   "execution_count": null,
   "metadata": {},
   "outputs": [],
   "source": [
    "### Agentes moduladores\n",
    "target=train_target.iloc[:,1:].sum(axis=0)\n",
    "fig = plt.figure(figsize=(12, 6))\n",
    "agentes = target.loc[target.index.str.contains('_agent')]\n",
    "agentes_data = pd.DataFrame(agentes)\n",
    "sns.barplot(agentes.values, agentes.index)\n",
    "plt.tick_params(axis='x', labelsize=15)\n",
    "plt.tick_params(axis='y', labelsize=15)\n",
    "plt.title('Agentes moduladores', size=18, pad=18)\n",
    "plt.show()"
   ]
  },
  {
   "cell_type": "markdown",
   "metadata": {},
   "source": [
    "### Receptores"
   ]
  },
  {
   "cell_type": "markdown",
   "metadata": {},
   "source": [
    "**Receptores positivios**"
   ]
  },
  {
   "cell_type": "code",
   "execution_count": null,
   "metadata": {},
   "outputs": [],
   "source": [
    "# Receptores positivos\n",
    "fig = plt.figure(figsize=(12, 12))\n",
    "receptor = target.loc[target.index.str.contains('_agonist')].sort_values(ascending=False)\n",
    "sns.barplot(receptor.values, receptor.index)\n",
    "plt.tick_params(axis='x', labelsize=15)\n",
    "plt.tick_params(axis='y', labelsize=15)\n",
    "plt.title('Receptores Positivos', size=18, pad=18)\n",
    "plt.show()"
   ]
  },
  {
   "cell_type": "markdown",
   "metadata": {},
   "source": [
    "**Receptores negativos**"
   ]
  },
  {
   "cell_type": "code",
   "execution_count": null,
   "metadata": {},
   "outputs": [],
   "source": [
    "# Receptores negativos\n",
    "receptor_ant = target.loc[target.index.str.contains('_antagonist')].sort_values(ascending=False)\n",
    "fig = plt.figure(figsize=(12, 12))\n",
    "sns.barplot(receptor_ant.values, receptor_ant.index)\n",
    "plt.tick_params(axis='x', labelsize=15)\n",
    "plt.tick_params(axis='y', labelsize=15)\n",
    "plt.title('Receptores Negativos', size=18, pad=18)\n",
    "plt.show()"
   ]
  },
  {
   "cell_type": "markdown",
   "metadata": {},
   "source": [
    "### Enzimas"
   ]
  },
  {
   "cell_type": "markdown",
   "metadata": {},
   "source": [
    "**Enzimas positivas**"
   ]
  },
  {
   "cell_type": "code",
   "execution_count": null,
   "metadata": {},
   "outputs": [],
   "source": [
    "##Enzimas positivas\n",
    "enzimas_pos = target.loc[target.index.str.contains('_activator')].sort_values(ascending=False)\n",
    "fig = plt.figure(figsize=(12, 6))\n",
    "sns.barplot(enzimas_pos.values, enzimas_pos.index)\n",
    "plt.tick_params(axis='x', labelsize=15)\n",
    "plt.tick_params(axis='y', labelsize=15)\n",
    "plt.title('Enzimas positivas', size=18, pad=18)\n",
    "plt.show()"
   ]
  },
  {
   "cell_type": "markdown",
   "metadata": {},
   "source": [
    "**Enzimas negativas**"
   ]
  },
  {
   "cell_type": "code",
   "execution_count": null,
   "metadata": {},
   "outputs": [],
   "source": [
    "##Enzimas negativas\n",
    "enzimas_neg = target.loc[target.index.str.contains('_inhibitor')].sort_values(ascending=False)\n",
    "fig = plt.figure(figsize=(12, 30))\n",
    "sns.barplot(enzimas_neg.values, enzimas_neg.index)\n",
    "plt.tick_params(axis='x', labelsize=15)\n",
    "plt.tick_params(axis='y', labelsize=15)\n",
    "plt.title('Enzimas negativas (Inhibidores)', size=18, pad=18)\n",
    "plt.show()"
   ]
  },
  {
   "cell_type": "code",
   "execution_count": null,
   "metadata": {},
   "outputs": [],
   "source": [
    "enzimas_neg_2 = target.loc[target.index.str.contains('_blocker')].sort_values(ascending=False)\n",
    "fig = plt.figure(figsize=(12, 3))\n",
    "sns.barplot(enzimas_neg_2.values, enzimas_neg_2.index)\n",
    "plt.tick_params(axis='x', labelsize=15)\n",
    "plt.tick_params(axis='y', labelsize=15)\n",
    "plt.title('Enzimas negativas (Bloqueadoras)', size=18, pad=18)\n",
    "plt.show()"
   ]
  },
  {
   "cell_type": "markdown",
   "metadata": {},
   "source": [
    "# 2. Estadísticos (test)"
   ]
  },
  {
   "cell_type": "markdown",
   "metadata": {},
   "source": [
    "## Matriz de correlación"
   ]
  },
  {
   "cell_type": "markdown",
   "metadata": {},
   "source": [
    "### Datos de entrenamiento "
   ]
  },
  {
   "cell_type": "code",
   "execution_count": null,
   "metadata": {},
   "outputs": [],
   "source": [
    "#Matriz de correlación \n",
    "g_features = [col for col in train_features.columns if col.startswith('g-')]\n",
    "datos_g = train_features.iloc[:,4:876]\n",
    "matrix_g = pd.DataFrame(data = datos_g, columns = [col for col in train_features.columns if col.startswith('g-')])"
   ]
  },
  {
   "cell_type": "code",
   "execution_count": null,
   "metadata": {},
   "outputs": [],
   "source": [
    "# datos_g1 = train_features.iloc[:,4:44]\n",
    "Matriz_Correlacion = matrix_g.corr()\n",
    "fig = plt.figure(figsize=(20,20))\n",
    "ax = sns.heatmap(Matriz_Correlacion,annot=False,square=True)#, xticklabels = features, yticklabels = features)\n",
    "ax.tick_params(axis='x', labelsize=20, rotation=90, pad=20)\n",
    "ax.tick_params(axis='y', labelsize=20, rotation=0, pad=20)\n",
    "\n",
    "for idx, label in enumerate(ax.get_xticklabels()):\n",
    "    if idx % 5 == 0:\n",
    "        label.set_visible(True)\n",
    "    else:\n",
    "        label.set_visible(False)\n",
    "        \n",
    "for idx, label in enumerate(ax.get_yticklabels()):\n",
    "    if idx % 5 == 0:\n",
    "        label.set_visible(True)\n",
    "    else:\n",
    "        label.set_visible(False)\n",
    "        \n",
    "cbar = ax.collections[0].colorbar\n",
    "cbar.ax.tick_params(labelsize=20, pad=10)\n",
    "\n",
    "plt.title('Correlación de expresiones génicas', size=25, pad=25)\n",
    "plt.show()\n",
    "# Matriz_Correlacion"
   ]
  },
  {
   "cell_type": "code",
   "execution_count": null,
   "metadata": {},
   "outputs": [],
   "source": [
    "#Correlación para la viabilidad de celulas\n",
    "c_features = [col for col in train_features.columns if col.startswith('c-')]\n",
    "datos_c = train_features.iloc[:,4:876]\n",
    "matrix_c = pd.DataFrame(data = datos_g, columns = [col for col in train_features.columns if col.startswith('c-')])"
   ]
  },
  {
   "cell_type": "code",
   "execution_count": null,
   "metadata": {},
   "outputs": [],
   "source": [
    "Matriz_Correlacion_C = matrix_c.corr()\n",
    "fig = plt.figure(figsize=(20,20))\n",
    "ax = sns.heatmap(Matriz_Correlacion_C,annot=False,square=True)#, xticklabels = features, yticklabels = features)\n",
    "ax.tick_params(axis='x', labelsize=20, rotation=90, pad=20)\n",
    "ax.tick_params(axis='y', labelsize=20, rotation=0, pad=20)\n",
    "\n",
    "for idx, label in enumerate(ax.get_xticklabels()):\n",
    "    if idx % 5 == 0:\n",
    "        label.set_visible(True)\n",
    "    else:\n",
    "        label.set_visible(False)\n",
    "        \n",
    "for idx, label in enumerate(ax.get_yticklabels()):\n",
    "    if idx % 5 == 0:\n",
    "        label.set_visible(True)\n",
    "    else:\n",
    "        label.set_visible(False)\n",
    "        \n",
    "cbar = ax.collections[0].colorbar\n",
    "cbar.ax.tick_params(labelsize=20, pad=10)\n",
    "\n",
    "plt.title('Correlación de viabilidad celular', size=25, pad=25)\n",
    "plt.show()"
   ]
  }
 ],
 "metadata": {
  "kernelspec": {
   "display_name": "Python 3",
   "language": "python",
   "name": "python3"
  },
  "language_info": {
   "codemirror_mode": {
    "name": "ipython",
    "version": 3
   },
   "file_extension": ".py",
   "mimetype": "text/x-python",
   "name": "python",
   "nbconvert_exporter": "python",
   "pygments_lexer": "ipython3",
   "version": "3.7.6"
  }
 },
 "nbformat": 4,
 "nbformat_minor": 4
}
